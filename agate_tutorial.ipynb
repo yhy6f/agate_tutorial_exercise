{
 "cells": [
  {
   "cell_type": "code",
   "execution_count": 12,
   "metadata": {
    "collapsed": true
   },
   "outputs": [],
   "source": [
    "import agate"
   ]
  },
  {
   "cell_type": "code",
   "execution_count": 13,
   "metadata": {
    "collapsed": true
   },
   "outputs": [],
   "source": [
    "exonerations = agate.Table.from_csv('exonerations-20150828.csv')"
   ]
  },
  {
   "cell_type": "code",
   "execution_count": 14,
   "metadata": {
    "collapsed": false
   },
   "outputs": [
    {
     "name": "stdout",
     "output_type": "stream",
     "text": [
      "|----------------------+---------------|\n",
      "|  column_names        | column_types  |\n",
      "|----------------------+---------------|\n",
      "|  last_name           | Text          |\n",
      "|  first_name          | Text          |\n",
      "|  age                 | Number        |\n",
      "|  race                | Text          |\n",
      "|  state               | Text          |\n",
      "|  tags                | Text          |\n",
      "|  crime               | Text          |\n",
      "|  sentence            | Text          |\n",
      "|  convicted           | Number        |\n",
      "|  exonerated          | Number        |\n",
      "|  dna                 | Boolean       |\n",
      "|  dna_essential       | Text          |\n",
      "|  mistake_witness     | Boolean       |\n",
      "|  false_confession    | Boolean       |\n",
      "|  perjury             | Boolean       |\n",
      "|  false_evidence      | Boolean       |\n",
      "|  official_misconduct | Boolean       |\n",
      "|  inadequate_defense  | Boolean       |\n",
      "|----------------------+---------------|\n",
      "\n"
     ]
    }
   ],
   "source": [
    "print(exonerations)"
   ]
  },
  {
   "cell_type": "code",
   "execution_count": 15,
   "metadata": {
    "collapsed": false,
    "scrolled": true
   },
   "outputs": [
    {
     "name": "stdout",
     "output_type": "stream",
     "text": [
      "<agate.Column: (u'Abbitt', u'Abdal', u'Abernathy', u'Acero', u'Adams', ...)>\n"
     ]
    }
   ],
   "source": [
    "print exonerations.columns[0]"
   ]
  },
  {
   "cell_type": "code",
   "execution_count": 16,
   "metadata": {
    "collapsed": false
   },
   "outputs": [
    {
     "name": "stdout",
     "output_type": "stream",
     "text": [
      "True\n"
     ]
    }
   ],
   "source": [
    "first_row=exonerations.rows[0]\n",
    "print first_row['dna']\n"
   ]
  },
  {
   "cell_type": "code",
   "execution_count": 17,
   "metadata": {
    "collapsed": false
   },
   "outputs": [
    {
     "ename": "NameError",
     "evalue": "name 'columns' is not defined",
     "output_type": "error",
     "traceback": [
      "\u001b[0;31m---------------------------------------------------------------------------\u001b[0m",
      "\u001b[0;31mNameError\u001b[0m                                 Traceback (most recent call last)",
      "\u001b[0;32m<ipython-input-17-5c690234716a>\u001b[0m in \u001b[0;36m<module>\u001b[0;34m()\u001b[0m\n\u001b[0;32m----> 1\u001b[0;31m \u001b[0mexonerations\u001b[0m \u001b[0;34m=\u001b[0m \u001b[0magate\u001b[0m\u001b[0;34m.\u001b[0m\u001b[0mTable\u001b[0m\u001b[0;34m.\u001b[0m\u001b[0mfrom_csv\u001b[0m\u001b[0;34m(\u001b[0m\u001b[0;34m'exonerations-20150828.csv'\u001b[0m\u001b[0;34m,\u001b[0m \u001b[0mcolumns\u001b[0m\u001b[0;34m,\u001b[0m \u001b[0mrow_names\u001b[0m\u001b[0;34m=\u001b[0m\u001b[0;32mlambda\u001b[0m \u001b[0mr\u001b[0m\u001b[0;34m:\u001b[0m \u001b[0;34m'%(last_name)s, %(first_name)s'\u001b[0m \u001b[0;34m%\u001b[0m \u001b[0;34m(\u001b[0m\u001b[0mr\u001b[0m\u001b[0;34m)\u001b[0m\u001b[0;34m)\u001b[0m\u001b[0;34m\u001b[0m\u001b[0m\n\u001b[0m\u001b[1;32m      2\u001b[0m \u001b[0mexonerations\u001b[0m\u001b[0;34m.\u001b[0m\u001b[0mrows\u001b[0m\u001b[0;34m[\u001b[0m\u001b[0;36m0\u001b[0m\u001b[0;34m]\u001b[0m\u001b[0;34m\u001b[0m\u001b[0m\n",
      "\u001b[0;31mNameError\u001b[0m: name 'columns' is not defined"
     ]
    }
   ],
   "source": [
    "exonerations = agate.Table.from_csv('exonerations-20150828.csv', columns, row_names=lambda r: '%(last_name)s, %(first_name)s' % (r))\n",
    "exonerations.rows[0]"
   ]
  },
  {
   "cell_type": "code",
   "execution_count": null,
   "metadata": {
    "collapsed": false
   },
   "outputs": [],
   "source": [
    "column = exonerations.columns['crime']\n",
    "print column[0]"
   ]
  },
  {
   "cell_type": "code",
   "execution_count": null,
   "metadata": {
    "collapsed": false
   },
   "outputs": [],
   "source": [
    "row = exonerations.rows[0]\n",
    "print row"
   ]
  },
  {
   "cell_type": "code",
   "execution_count": null,
   "metadata": {
    "collapsed": false
   },
   "outputs": [],
   "source": [
    "row = exonerations.rows[0]\n",
    "print row['last_name']\n"
   ]
  },
  {
   "cell_type": "code",
   "execution_count": null,
   "metadata": {
    "collapsed": false
   },
   "outputs": [],
   "source": [
    "column = exonerations.columns['crime']\n",
    "print column[0]\n",
    "print column['Abbitt, Joseph Lamont']"
   ]
  },
  {
   "cell_type": "code",
   "execution_count": null,
   "metadata": {
    "collapsed": false
   },
   "outputs": [],
   "source": [
    "for row in exonerations.rows:\n",
    "    print(row['last_name'])"
   ]
  },
  {
   "cell_type": "code",
   "execution_count": null,
   "metadata": {
    "collapsed": false
   },
   "outputs": [],
   "source": [
    "num_false_confessions = exonerations.aggregate(agate.Count('false_confession', True))\n",
    "\n",
    "print(num_false_confessions)"
   ]
  },
  {
   "cell_type": "code",
   "execution_count": null,
   "metadata": {
    "collapsed": false
   },
   "outputs": [],
   "source": [
    "median_age = exonerations.aggregate(agate.Median('age'))\n",
    "\n",
    "print(median_age)"
   ]
  },
  {
   "cell_type": "code",
   "execution_count": null,
   "metadata": {
    "collapsed": false
   },
   "outputs": [],
   "source": [
    "num_without_age = exonerations.aggregate(agate.Count('age', None))\n",
    "\n",
    "print(num_without_age)"
   ]
  },
  {
   "cell_type": "code",
   "execution_count": null,
   "metadata": {
    "collapsed": true
   },
   "outputs": [],
   "source": [
    "with_age = exonerations.where(lambda row: row['age'] is not None)\n"
   ]
  },
  {
   "cell_type": "code",
   "execution_count": null,
   "metadata": {
    "collapsed": false
   },
   "outputs": [],
   "source": [
    "old = len(exonerations.rows)\n",
    "new = len(with_age.rows)\n",
    "\n",
    "print(old - new)"
   ]
  },
  {
   "cell_type": "code",
   "execution_count": null,
   "metadata": {
    "collapsed": false
   },
   "outputs": [],
   "source": [
    "median_age = with_age.aggregate(agate.Median('age'))\n",
    "\n",
    "print(median_age)"
   ]
  },
  {
   "cell_type": "code",
   "execution_count": null,
   "metadata": {
    "collapsed": false
   },
   "outputs": [],
   "source": [
    "with_years_in_prison = exonerations.compute([\n",
    "    ('years_in_prison', agate.Change('convicted', 'exonerated'))\n",
    "])\n",
    "\n",
    "median_years = with_years_in_prison.aggregate(agate.Median('years_in_prison'))\n",
    "\n",
    "print(median_years)"
   ]
  },
  {
   "cell_type": "code",
   "execution_count": null,
   "metadata": {
    "collapsed": true
   },
   "outputs": [],
   "source": [
    "full_names = exonerations.compute([\n",
    "    ('full_name', agate.Formula(agate.Text(), lambda row: '%(first_name)s %(last_name)s' % row))\n",
    "])"
   ]
  },
  {
   "cell_type": "code",
   "execution_count": null,
   "metadata": {
    "collapsed": false
   },
   "outputs": [],
   "source": [
    "print full_names"
   ]
  },
  {
   "cell_type": "code",
   "execution_count": null,
   "metadata": {
    "collapsed": false
   },
   "outputs": [],
   "source": [
    "print exonerations.columns['full_name']"
   ]
  },
  {
   "cell_type": "code",
   "execution_count": null,
   "metadata": {
    "collapsed": false
   },
   "outputs": [],
   "source": [
    "for row in exonerations.rows:\n",
    "    print(row['full_name'])"
   ]
  },
  {
   "cell_type": "code",
   "execution_count": null,
   "metadata": {
    "collapsed": true
   },
   "outputs": [],
   "source": [
    "with_computations = exonerations.compute([\n",
    "    ('full_name', agate.Formula(agate.Text(), lambda row: '%(first_name)s %(last_name)s' % row)),\n",
    "    ('years_in_prison', agate.Change('convicted', 'exonerated'))\n",
    "])"
   ]
  },
  {
   "cell_type": "code",
   "execution_count": null,
   "metadata": {
    "collapsed": true
   },
   "outputs": [],
   "source": [
    "sorted_by_age = exonerations.order_by('age')"
   ]
  },
  {
   "cell_type": "code",
   "execution_count": null,
   "metadata": {
    "collapsed": true
   },
   "outputs": [],
   "source": [
    "youngest_ten = sorted_by_age.limit(10)"
   ]
  },
  {
   "cell_type": "code",
   "execution_count": null,
   "metadata": {
    "collapsed": false
   },
   "outputs": [],
   "source": [
    "youngest_ten.print_table(max_columns=7)"
   ]
  },
  {
   "cell_type": "code",
   "execution_count": null,
   "metadata": {
    "collapsed": false
   },
   "outputs": [],
   "source": [
    "binned_ages = exonerations.bins('age', 10, 0, 100)\n",
    "binned_ages.print_bars('age', 'Count', width=80)"
   ]
  },
  {
   "cell_type": "code",
   "execution_count": null,
   "metadata": {
    "collapsed": false
   },
   "outputs": [],
   "source": [
    "by_state = exonerations.group_by('state')\n",
    "state_totals = by_state.aggregate([\n",
    "    ('count', agate.Count())\n",
    "])\n",
    "\n",
    "sorted_totals = state_totals.order_by('count', reverse=True)\n",
    "\n",
    "sorted_totals.print_table(max_rows=5)"
   ]
  },
  {
   "cell_type": "code",
   "execution_count": null,
   "metadata": {
    "collapsed": false
   },
   "outputs": [],
   "source": [
    "with_years_in_prison = exonerations.compute([\n",
    "    ('years_in_prison', agate.Change('convicted', 'exonerated'))\n",
    "])\n",
    "\n",
    "state_totals = with_years_in_prison.group_by('state')\n",
    "\n",
    "medians = state_totals.aggregate([\n",
    "    ('count', agate.Count()),\n",
    "    ('median_years_in_prison', agate.Median('years_in_prison'))\n",
    "])\n",
    "\n",
    "sorted_medians = medians.order_by('median_years_in_prison', reverse=True)\n",
    "\n",
    "sorted_medians.print_table(max_rows=5)"
   ]
  },
  {
   "cell_type": "code",
   "execution_count": null,
   "metadata": {
    "collapsed": false
   },
   "outputs": [],
   "source": [
    "# Filters rows without age data\n",
    "only_with_age = with_years_in_prison.where(\n",
    "    lambda r: r['age'] is not None\n",
    ")\n",
    "\n",
    "# Group by race\n",
    "race_groups = only_with_age.group_by('race')\n",
    "\n",
    "# Sub-group by age cohorts (20s, 30s, etc.)\n",
    "race_and_age_groups = race_groups.group_by(\n",
    "    lambda r: '%i0s' % (r['age'] // 10),\n",
    "    key_name='age_group'\n",
    ")\n",
    "\n",
    "# Aggregate medians for each group\n",
    "medians = race_and_age_groups.aggregate([\n",
    "    ('count', agate.Count()),\n",
    "    ('median_years_in_prison', agate.Median('years_in_prison'))\n",
    "])\n",
    "\n",
    "# Sort the results\n",
    "sorted_groups = medians.order_by('median_years_in_prison', reverse=True)\n",
    "\n",
    "# Print out the results\n",
    "sorted_groups.print_table(max_rows=10)"
   ]
  },
  {
   "cell_type": "code",
   "execution_count": null,
   "metadata": {
    "collapsed": false
   },
   "outputs": [],
   "source": [
    "exonerations = agate.Table.from_csv('exonerations-20150828.csv')\n",
    "mo = exonerations.aggregate([agate.Count('state', 'mo')])\n",
    "print mo"
   ]
  },
  {
   "cell_type": "code",
   "execution_count": null,
   "metadata": {
    "collapsed": false
   },
   "outputs": [],
   "source": [
    "exonerations = agate.Table.from_csv('exonerations-20150828.csv')\n",
    "mo = exonerations.aggregate(agate.Count('state', 'MO'))\n",
    "print mo"
   ]
  },
  {
   "cell_type": "code",
   "execution_count": null,
   "metadata": {
    "collapsed": true
   },
   "outputs": [],
   "source": []
  }
 ],
 "metadata": {
  "kernelspec": {
   "display_name": "Python 2",
   "language": "python",
   "name": "python2"
  },
  "language_info": {
   "codemirror_mode": {
    "name": "ipython",
    "version": 2
   },
   "file_extension": ".py",
   "mimetype": "text/x-python",
   "name": "python",
   "nbconvert_exporter": "python",
   "pygments_lexer": "ipython2",
   "version": "2.7.11"
  }
 },
 "nbformat": 4,
 "nbformat_minor": 0
}
